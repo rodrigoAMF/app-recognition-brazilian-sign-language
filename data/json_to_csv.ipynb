{
 "cells": [
  {
   "cell_type": "code",
   "execution_count": 54,
   "metadata": {},
   "outputs": [],
   "source": [
    "import json\n",
    "import urllib.request"
   ]
  },
  {
   "cell_type": "markdown",
   "metadata": {},
   "source": [
    "# Importa o JSON"
   ]
  },
  {
   "cell_type": "code",
   "execution_count": 64,
   "metadata": {},
   "outputs": [],
   "source": [
    "with open('dataset.json', encoding='utf-8') as fh:\n",
    "    dataset = json.load(fh)"
   ]
  },
  {
   "cell_type": "markdown",
   "metadata": {},
   "source": [
    "# Salva as imagens na pasta dataset/"
   ]
  },
  {
   "cell_type": "code",
   "execution_count": 58,
   "metadata": {},
   "outputs": [],
   "source": [
    "\"\"\"\n",
    "for i in range(1,len(dataset)+1):\n",
    "    url = dataset[str(i)]['content']\n",
    "    filename = \"dataset/\"+str(i)+\".png\"\n",
    "    urllib.request.urlretrieve(url, filename)\n",
    "\"\"\""
   ]
  },
  {
   "cell_type": "code",
   "execution_count": 87,
   "metadata": {},
   "outputs": [],
   "source": [
    "f = open('dataset.txt','w')\n",
    "\n",
    "for i in range(1,len(dataset)+1):\n",
    "    # path, x1, y1, x2, y2, class_name\n",
    "    image = \"dataset/\" + str(i) + \".png,\"\n",
    "    # x1\n",
    "    image += str(\"{:.2f}\".format(dataset[str(i)]['annotation'][0]['imageWidth']*dataset[str(i)]['annotation'][0]['points'][1][0])) + \",\"\n",
    "    # y1\n",
    "    image += str(\"{:.2f}\".format(dataset[str(i)]['annotation'][0]['imageHeight']*dataset[str(i)]['annotation'][0]['points'][2][1])) + \",\"\n",
    "    # x2\n",
    "    image += str(\"{:.2f}\".format(dataset[str(i)]['annotation'][0]['imageWidth']*dataset[str(i)]['annotation'][0]['points'][0][0])) + \",\"\n",
    "    # y2\n",
    "    image += str(\"{:.2f}\".format(dataset[str(i)]['annotation'][0]['imageHeight']*dataset[str(i)]['annotation'][0]['points'][0][1])) + \",\"\n",
    "    # class_name\n",
    "    image += str(dataset[str(i)]['annotation'][0]['label'][0])\n",
    "    \n",
    "    f.write(str(image) + \"\\n\")\n",
    "    \n",
    "f.close()\n",
    "    \n",
    "#for data in dataset:\n",
    "#    print(data['content'])"
   ]
  }
 ],
 "metadata": {
  "kernelspec": {
   "display_name": "Python (ml)",
   "language": "python",
   "name": "ml"
  },
  "language_info": {
   "codemirror_mode": {
    "name": "ipython",
    "version": 3
   },
   "file_extension": ".py",
   "mimetype": "text/x-python",
   "name": "python",
   "nbconvert_exporter": "python",
   "pygments_lexer": "ipython3",
   "version": "3.6.8"
  }
 },
 "nbformat": 4,
 "nbformat_minor": 2
}
